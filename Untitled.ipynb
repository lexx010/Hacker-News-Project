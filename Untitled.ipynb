{
 "cells": [
  {
   "cell_type": "markdown",
   "id": "c495ddc3",
   "metadata": {},
   "source": [
    "### *Hacker News* project\n",
    "\n"
   ]
  },
  {
   "cell_type": "markdown",
   "id": "f8645017",
   "metadata": {},
   "source": [
    "### Overview\n",
    "Hacker News is a site started by the startup incubator Y Combinator, where user-submitted stories (known as \"posts\") receive votes and comments, similar to reddit. Hacker News is extremely popular in technology and startup circles, and posts that make it to the top of the Hacker News listings can get hundreds of thousands of visitors as a result."
   ]
  },
  {
   "cell_type": "markdown",
   "id": "96be2d94",
   "metadata": {},
   "source": [
    "We're specifically interested in posts with titles that begin with either `Ask HN` or `Show HN`. Users submit Ask HN posts to ask the Hacker News community a specific question.\n",
    "We'll compare these two types of posts to determine the following:\n",
    "***\n",
    "\n",
    "- Do Ask HN or Show HN receive more comments on average?\n",
    "- Do posts created at a certain time receive more comments on average?"
   ]
  },
  {
   "cell_type": "code",
   "execution_count": 1,
   "id": "f88ed531",
   "metadata": {},
   "outputs": [],
   "source": [
    "from csv import reader\n",
    "import datetime as dt\n",
    "import numpy as np\n",
    "import matplotlib.pyplot as plt"
   ]
  },
  {
   "cell_type": "code",
   "execution_count": 2,
   "id": "1adba668",
   "metadata": {},
   "outputs": [],
   "source": [
    "#Read data file in as a list of lists\n",
    "with open ('hacker_news.csv') as file:\n",
    "    read_file = reader(file)\n",
    "    hn = list(read_file)\n",
    "    hn_header = hn[0]\n",
    "    hn = hn[1:]\n",
    "    "
   ]
  },
  {
   "cell_type": "markdown",
   "id": "551e6570",
   "metadata": {},
   "source": [
    "Display the dataset headers:"
   ]
  },
  {
   "cell_type": "code",
   "execution_count": 3,
   "id": "7210f3ff",
   "metadata": {},
   "outputs": [
    {
     "name": "stdout",
     "output_type": "stream",
     "text": [
      "['id', 'title', 'url', 'num_points', 'num_comments', 'author', 'created_at']\n"
     ]
    }
   ],
   "source": [
    "print(hn_header)"
   ]
  },
  {
   "cell_type": "markdown",
   "id": "296afb90",
   "metadata": {},
   "source": [
    "Displaying the first five rows:"
   ]
  },
  {
   "cell_type": "code",
   "execution_count": 4,
   "id": "a1ebb845",
   "metadata": {},
   "outputs": [
    {
     "name": "stdout",
     "output_type": "stream",
     "text": [
      "['12224879', 'Interactive Dynamic Video', 'http://www.interactivedynamicvideo.com/', '386', '52', 'ne0phyte', '8/4/2016 11:52']\n",
      "['10975351', 'How to Use Open Source and Shut the Fuck Up at the Same Time', 'http://hueniverse.com/2016/01/26/how-to-use-open-source-and-shut-the-fuck-up-at-the-same-time/', '39', '10', 'josep2', '1/26/2016 19:30']\n",
      "['11964716', \"Florida DJs May Face Felony for April Fools' Water Joke\", 'http://www.thewire.com/entertainment/2013/04/florida-djs-april-fools-water-joke/63798/', '2', '1', 'vezycash', '6/23/2016 22:20']\n",
      "['11919867', 'Technology ventures: From Idea to Enterprise', 'https://www.amazon.com/Technology-Ventures-Enterprise-Thomas-Byers/dp/0073523429', '3', '1', 'hswarna', '6/17/2016 0:01']\n",
      "['10301696', 'Note by Note: The Making of Steinway L1037 (2007)', 'http://www.nytimes.com/2007/11/07/movies/07stein.html?_r=0', '8', '2', 'walterbell', '9/30/2015 4:12']\n"
     ]
    }
   ],
   "source": [
    "for i in range(5):\n",
    "    print(hn[i])"
   ]
  },
  {
   "cell_type": "markdown",
   "id": "9e013784",
   "metadata": {},
   "source": [
    "### Filtering Data\n",
    " Since we're only concerned with post titles beginning with Ask HN or Show HN, we'll create new lists of lists containing just the data for those titles.\n",
    "**Obejective**: Separate posts beginning with Ask HN and Show HN (and case variations) into two different lists"
   ]
  },
  {
   "cell_type": "code",
   "execution_count": 5,
   "id": "e1a03140",
   "metadata": {},
   "outputs": [],
   "source": [
    "ask_posts = [] #Creating a list for \"ask\" posts\n",
    "show_posts = []#Creating a list for \"show\" posts\n",
    "other_posts = []#Creating a list for other post.\n",
    "\n",
    "for row in hn:\n",
    "    title = row[1]\n",
    "    if title.lower().startswith('ask hn'):\n",
    "        ask_posts.append(row)\n",
    "    elif title.lower().startswith('show hn'):\n",
    "        show_posts.append(row)\n",
    "    else:\n",
    "        other_posts.append(row)     \n",
    "        \n",
    "        "
   ]
  },
  {
   "cell_type": "markdown",
   "id": "90ece236",
   "metadata": {},
   "source": [
    "Display the first rows of the \"ask posts\" list:"
   ]
  },
  {
   "cell_type": "code",
   "execution_count": 6,
   "id": "2a253833",
   "metadata": {},
   "outputs": [
    {
     "name": "stdout",
     "output_type": "stream",
     "text": [
      "['12296411', 'Ask HN: How to improve my personal website?', '', '2', '6', 'ahmedbaracat', '8/16/2016 9:55']\n",
      "['10610020', 'Ask HN: Am I the only one outraged by Twitter shutting down share counts?', '', '28', '29', 'tkfx', '11/22/2015 13:43']\n",
      "['11610310', 'Ask HN: Aby recent changes to CSS that broke mobile?', '', '1', '1', 'polskibus', '5/2/2016 10:14']\n"
     ]
    }
   ],
   "source": [
    "for i in range(3):\n",
    "    print(ask_posts[i])"
   ]
  },
  {
   "cell_type": "markdown",
   "id": "c22cdfc4",
   "metadata": {},
   "source": [
    "Display the first rows of the \"show posts\" list:"
   ]
  },
  {
   "cell_type": "code",
   "execution_count": 7,
   "id": "ba3bb390",
   "metadata": {
    "scrolled": true
   },
   "outputs": [
    {
     "name": "stdout",
     "output_type": "stream",
     "text": [
      "['10627194', 'Show HN: Wio Link  ESP8266 Based Web of Things Hardware Development Platform', 'https://iot.seeed.cc', '26', '22', 'kfihihc', '11/25/2015 14:03']\n",
      "['10646440', 'Show HN: Something pointless I made', 'http://dn.ht/picklecat/', '747', '102', 'dhotson', '11/29/2015 22:46']\n",
      "['11590768', 'Show HN: Shanhu.io, a programming playground powered by e8vm', 'https://shanhu.io', '1', '1', 'h8liu', '4/28/2016 18:05']\n"
     ]
    }
   ],
   "source": [
    "for i in range(3):\n",
    "    print(show_posts[i])"
   ]
  },
  {
   "cell_type": "markdown",
   "id": "0914a79b",
   "metadata": {},
   "source": [
    "Display the first rows of the \"other posts\" list:"
   ]
  },
  {
   "cell_type": "code",
   "execution_count": 8,
   "id": "a5a88333",
   "metadata": {},
   "outputs": [
    {
     "name": "stdout",
     "output_type": "stream",
     "text": [
      "['12224879', 'Interactive Dynamic Video', 'http://www.interactivedynamicvideo.com/', '386', '52', 'ne0phyte', '8/4/2016 11:52']\n",
      "['10975351', 'How to Use Open Source and Shut the Fuck Up at the Same Time', 'http://hueniverse.com/2016/01/26/how-to-use-open-source-and-shut-the-fuck-up-at-the-same-time/', '39', '10', 'josep2', '1/26/2016 19:30']\n",
      "['11964716', \"Florida DJs May Face Felony for April Fools' Water Joke\", 'http://www.thewire.com/entertainment/2013/04/florida-djs-april-fools-water-joke/63798/', '2', '1', 'vezycash', '6/23/2016 22:20']\n"
     ]
    }
   ],
   "source": [
    "for i in range(3):\n",
    "    print(other_posts[i])"
   ]
  },
  {
   "cell_type": "markdown",
   "id": "e2d323ba",
   "metadata": {},
   "source": [
    "The count of entries in the generated lists are as follows: `1744`, `1162`, and `17194`. The cumulative count of rows in the \"hn\" dataset amounts to `20100`, which is confirmed by the \"check_sum\" variable."
   ]
  },
  {
   "cell_type": "code",
   "execution_count": 9,
   "id": "43857503",
   "metadata": {},
   "outputs": [
    {
     "name": "stdout",
     "output_type": "stream",
     "text": [
      "Length of the ask posts list: 1744\n"
     ]
    }
   ],
   "source": [
    "print(f\"Length of the ask posts list: {len(ask_posts)}\")"
   ]
  },
  {
   "cell_type": "code",
   "execution_count": 10,
   "id": "b87ae86f",
   "metadata": {},
   "outputs": [
    {
     "name": "stdout",
     "output_type": "stream",
     "text": [
      "Length of the show posts list: 1162\n"
     ]
    }
   ],
   "source": [
    "print(f\"Length of the show posts list: {len(show_posts)}\")"
   ]
  },
  {
   "cell_type": "code",
   "execution_count": 11,
   "id": "c7dc403c",
   "metadata": {},
   "outputs": [
    {
     "name": "stdout",
     "output_type": "stream",
     "text": [
      "Length of the other posts list: 17194\n"
     ]
    }
   ],
   "source": [
    "print(f\"Length of the other posts list: {len(other_posts)}\")\n"
   ]
  },
  {
   "cell_type": "markdown",
   "id": "04d7b560",
   "metadata": {},
   "source": [
    "The total number of rows in the \"hn\" dataset."
   ]
  },
  {
   "cell_type": "code",
   "execution_count": 12,
   "id": "eef6e424",
   "metadata": {
    "scrolled": true
   },
   "outputs": [
    {
     "name": "stdout",
     "output_type": "stream",
     "text": [
      "The total number of rows in the original dataset: 20100\n"
     ]
    }
   ],
   "source": [
    "print(f\"The total number of rows in the original dataset: {len(hn)}\")"
   ]
  },
  {
   "cell_type": "markdown",
   "id": "dd00c4ae",
   "metadata": {},
   "source": [
    "Validating the count of entries in the created lists with the original dataset.\n"
   ]
  },
  {
   "cell_type": "code",
   "execution_count": 13,
   "id": "36fc85a7",
   "metadata": {},
   "outputs": [
    {
     "name": "stdout",
     "output_type": "stream",
     "text": [
      "The sum of rows in the ask, show and other posts lists: 20100\n"
     ]
    }
   ],
   "source": [
    "check_sum = sum(len(x) for x in (ask_posts, show_posts, other_posts))\n",
    "print(f\"The sum of rows in the ask, show and other posts lists: {check_sum}\")"
   ]
  },
  {
   "cell_type": "markdown",
   "id": "b92735cc",
   "metadata": {},
   "source": [
    "### Calculating the Average Number of Comments for Ask HN and Show HN Posts"
   ]
  },
  {
   "cell_type": "code",
   "execution_count": 14,
   "id": "f7355c82",
   "metadata": {},
   "outputs": [
    {
     "name": "stdout",
     "output_type": "stream",
     "text": [
      "Total number of comments in ask posts: 24483\n",
      "The average number of comments per post on ask posts: 14\n",
      "\n",
      "\n",
      "Total number of comments in show posts: 11988\n",
      "The average number of commentsper post on show posts: 10\n",
      "\n",
      "\n",
      "Total number of comments in \"other\" posts: 462055\n",
      "The average number of commentsper post on \"other\" posts: 27\n"
     ]
    }
   ],
   "source": [
    "#Define a function to calculate number of comments. \n",
    "def calc_posts_comments(posts):\n",
    "    total_comments = 0\n",
    "    \n",
    "    for row in posts:\n",
    "        num_comments = row[4]\n",
    "        total_comments += int(num_comments)\n",
    "        \n",
    "    avg_comments = total_comments / len(posts)\n",
    "    \n",
    "    return total_comments, avg_comments\n",
    "\n",
    "ask_total_comments, ask_avg_comments = calc_posts_comments(ask_posts)\n",
    "show_total_comments, show_avg_comments = calc_posts_comments(show_posts)\n",
    "other_total_comments,other_avg_comments = calc_posts_comments(other_posts)\n",
    "\n",
    "print(f'Total number of comments in ask posts: {ask_total_comments}')\n",
    "print(f'The average number of comments per post on ask posts: {round(ask_avg_comments)}')\n",
    "print('\\n')\n",
    "print(f'Total number of comments in show posts: {show_total_comments}')\n",
    "print(f'The average number of commentsper post on show posts: {round(show_avg_comments)}')\n",
    "print('\\n')\n",
    "print(f'Total number of comments in \"other\" posts: {other_total_comments}')\n",
    "print(f'The average number of commentsper post on \"other\" posts: {round(other_avg_comments)}')\n"
   ]
  },
  {
   "cell_type": "markdown",
   "id": "8abdce7f",
   "metadata": {},
   "source": [
    "It can be observed that *other* posts received more comments on average compared to ask and show posts, but our focus on ASK AND HOW posts , so we can see that Ask posts have an average of `14` comments per post, while show posts have an average of `10` comments per post.\n",
    "\n",
    "Therefore, `ask` posts tend to generate more engagement and discussion from the community."
   ]
  },
  {
   "cell_type": "markdown",
   "id": "674f1b6d",
   "metadata": {},
   "source": [
    "### Finding the Number of Ask Posts and Comments by Hour Created\n",
    "Since ask posts are more likely to receive comments, we'll focus our remaining analysis just on these posts.\n",
    "\n",
    "Next, we'll determine if ask posts created at a certain time are more likely to attract comments. We'll use the following steps to perform this analysis:\n",
    "\n",
    "1. Calculate the number of ask posts created in each hour of the day, along with the number of comments received.\n",
    "2. Calculate the average number of comments ask posts receive by hour created."
   ]
  },
  {
   "cell_type": "code",
   "execution_count": 15,
   "id": "8ea6a004",
   "metadata": {},
   "outputs": [
    {
     "name": "stdout",
     "output_type": "stream",
     "text": [
      "[['8/16/2016 9:55', '6'], ['11/22/2015 13:43', '29'], ['5/2/2016 10:14', '1']]\n"
     ]
    }
   ],
   "source": [
    "#Creating a lits with time/date and corresponding number of comments.\n",
    "result_list = []\n",
    "for row in ask_posts:\n",
    "    num_comments = row[4]\n",
    "    date_create = row[6]    \n",
    "    result_list.append([date_create, num_comments])\n",
    "\n",
    "print(result_list[:3])\n"
   ]
  },
  {
   "cell_type": "code",
   "execution_count": 16,
   "id": "51747e7b",
   "metadata": {},
   "outputs": [
    {
     "name": "stdout",
     "output_type": "stream",
     "text": [
      "Number of posts by hour: {'09': 45, '13': 85, '10': 59, '14': 107, '16': 108, '23': 68, '12': 73, '17': 100, '15': 116, '21': 109, '20': 80, '02': 58, '18': 109, '03': 54, '05': 46, '19': 110, '01': 60, '22': 71, '08': 48, '04': 47, '00': 55, '06': 44, '07': 34, '11': 58}\n",
      "Number of comments by hour: {'09': 251, '13': 1253, '10': 793, '14': 1416, '16': 1814, '23': 543, '12': 687, '17': 1146, '15': 4477, '21': 1745, '20': 1722, '02': 1381, '18': 1439, '03': 421, '05': 464, '19': 1188, '01': 683, '22': 479, '08': 492, '04': 337, '00': 447, '06': 397, '07': 267, '11': 641}\n"
     ]
    }
   ],
   "source": [
    "counts_by_hour = {}\n",
    "comments_by_hour = {}\n",
    "\n",
    "for row in result_list:\n",
    "    date_str = row[0] #Stores date string\n",
    "    comments = int(row[1])\n",
    "    date_dt = dt.datetime.strptime(date_str, '%m/%d/%Y %H:%M') #Convert date into datetime object\n",
    "    hour = dt.datetime.strftime(date_dt, '%H') #Extracting the hour from the date\n",
    "\n",
    "    if hour not in counts_by_hour:\n",
    "        counts_by_hour[hour] = 1\n",
    "        comments_by_hour[hour] = comments\n",
    "    else:\n",
    "        counts_by_hour[hour] += 1\n",
    "        comments_by_hour[hour] += comments\n",
    "        \n",
    "print(f'Number of posts by hour: {counts_by_hour}')\n",
    "print(f'Number of comments by hour: {comments_by_hour}')\n",
    "\n",
    "\n"
   ]
  },
  {
   "cell_type": "markdown",
   "id": "03dae971",
   "metadata": {},
   "source": [
    "   ### Calculating the Average Number of Comments for Ask HN Posts by Hour"
   ]
  },
  {
   "cell_type": "code",
   "execution_count": 17,
   "id": "55de88fd",
   "metadata": {},
   "outputs": [
    {
     "name": "stdout",
     "output_type": "stream",
     "text": [
      "Hour\tAverage Number of Comments\n",
      "-------------------------\n",
      "09\t 5.58\n",
      "13\t 14.74\n",
      "10\t 13.44\n",
      "14\t 13.23\n",
      "16\t 16.8\n",
      "23\t 7.99\n",
      "12\t 9.41\n",
      "17\t 11.46\n",
      "15\t 38.59\n",
      "21\t 16.01\n",
      "20\t 21.52\n",
      "02\t 23.81\n",
      "18\t 13.2\n",
      "03\t 7.8\n",
      "05\t 10.09\n",
      "19\t 10.8\n",
      "01\t 11.38\n",
      "22\t 6.75\n",
      "08\t 10.25\n",
      "04\t 7.17\n",
      "00\t 8.13\n",
      "06\t 9.02\n",
      "07\t 7.85\n",
      "11\t 11.05\n"
     ]
    }
   ],
   "source": [
    "avg_by_hour = [] #Creating a list to store average number of comments per hour.\n",
    "\n",
    "for hour in counts_by_hour:\n",
    "    num_comments = comments_by_hour[hour]\n",
    "    num_posts = counts_by_hour[hour]\n",
    "    avg_by_hour.append([hour, round(num_comments/num_posts,2)])\n",
    "\n",
    "print(\"Hour\\tAverage Number of Comments\")\n",
    "print(\"-------------------------\")    \n",
    "for row in avg_by_hour:\n",
    "    print(f'{row[0]}\\t {row[1]}')"
   ]
  },
  {
   "cell_type": "markdown",
   "id": "193472ea",
   "metadata": {},
   "source": [
    "Although we now have the results we need, this format makes it difficult to identify the hours with the highest values. Let's finish by sorting the list of lists and printing the five highest values in a format that's easier to read."
   ]
  },
  {
   "cell_type": "code",
   "execution_count": 18,
   "id": "db9694ab",
   "metadata": {},
   "outputs": [
    {
     "name": "stdout",
     "output_type": "stream",
     "text": [
      "5.58\t09\n",
      "14.74\t13\n",
      "13.44\t10\n",
      "13.23\t14\n",
      "16.8\t16\n",
      "7.99\t23\n",
      "9.41\t12\n",
      "11.46\t17\n",
      "38.59\t15\n",
      "16.01\t21\n",
      "21.52\t20\n",
      "23.81\t02\n",
      "13.2\t18\n",
      "7.8\t03\n",
      "10.09\t05\n",
      "10.8\t19\n",
      "11.38\t01\n",
      "6.75\t22\n",
      "10.25\t08\n",
      "7.17\t04\n",
      "8.13\t00\n",
      "9.02\t06\n",
      "7.85\t07\n",
      "11.05\t11\n"
     ]
    }
   ],
   "source": [
    "swap_avg_by_hour = []\n",
    "\n",
    "for row in avg_by_hour:\n",
    "    swap_avg_by_hour.append([row[1], row[0]])\n",
    "    print(f'{row[1]}\\t{row[0]}')\n",
    "\n",
    "    "
   ]
  },
  {
   "cell_type": "markdown",
   "id": "c9c26079",
   "metadata": {},
   "source": [
    "The sorted list by number of comments:"
   ]
  },
  {
   "cell_type": "code",
   "execution_count": 19,
   "id": "36578ad5",
   "metadata": {},
   "outputs": [
    {
     "name": "stdout",
     "output_type": "stream",
     "text": [
      "Average Number of Comments\tHour\n",
      "------------------------------------\n",
      "38.59\t\t\t\t15\n",
      "23.81\t\t\t\t02\n",
      "21.52\t\t\t\t20\n",
      "16.8\t\t\t\t16\n",
      "16.01\t\t\t\t21\n",
      "14.74\t\t\t\t13\n",
      "13.44\t\t\t\t10\n",
      "13.23\t\t\t\t14\n",
      "13.2\t\t\t\t18\n",
      "11.46\t\t\t\t17\n",
      "11.38\t\t\t\t01\n",
      "11.05\t\t\t\t11\n",
      "10.8\t\t\t\t19\n",
      "10.25\t\t\t\t08\n",
      "10.09\t\t\t\t05\n",
      "9.41\t\t\t\t12\n",
      "9.02\t\t\t\t06\n",
      "8.13\t\t\t\t00\n",
      "7.99\t\t\t\t23\n",
      "7.85\t\t\t\t07\n",
      "7.8\t\t\t\t03\n",
      "7.17\t\t\t\t04\n",
      "6.75\t\t\t\t22\n",
      "5.58\t\t\t\t09\n"
     ]
    }
   ],
   "source": [
    "sorted_swap = sorted(swap_avg_by_hour, reverse=True)\n",
    "print(\"Average Number of Comments\\tHour\")\n",
    "print(\"------------------------------------\")   \n",
    "for row in sorted_swap:\n",
    "    print(f'{row[0]}\\t\\t\\t\\t{row[1]}')\n"
   ]
  },
  {
   "cell_type": "markdown",
   "id": "bad88259",
   "metadata": {},
   "source": [
    "The next step is to transform the sorted results into Central Time US and exhibit the top 5 hours with the highest comment activity."
   ]
  },
  {
   "cell_type": "code",
   "execution_count": 20,
   "id": "980ff71a",
   "metadata": {},
   "outputs": [
    {
     "name": "stdout",
     "output_type": "stream",
     "text": [
      "Top 5 Hours for Ask Posts Comments (Central Time) \n",
      "\n",
      "21:00 -> 38.59 average comments per post\n",
      "08:00 -> 23.81 average comments per post\n",
      "02:00 -> 21.52 average comments per post\n",
      "22:00 -> 16.80 average comments per post\n",
      "03:00 -> 16.01 average comments per post\n"
     ]
    }
   ],
   "source": [
    "print(\"Top 5 Hours for Ask Posts Comments (Central Time) \\n\")\n",
    "central_time = dt.timedelta(hours=6)\n",
    "\n",
    "for average, hour in sorted_swap[:5]:\n",
    "    #Create a dt object with the hour\n",
    "    hour_dt = dt.datetime.strptime(str(hour), \"%H\")\n",
    "    #Converting time to the Central tome zone\n",
    "    central_hr_dt = hour_dt + central_time\n",
    "    #Format hour in Hours:Minutes format\n",
    "    formatted_hour = central_hr_dt.strftime(\"%H:%M\")\n",
    "    print(f\"{formatted_hour} -> {average:.2f} average comments per post\")"
   ]
  },
  {
   "cell_type": "markdown",
   "id": "9dbd17dd",
   "metadata": {},
   "source": [
    "### Conclusion\n",
    "The final outcomes were adjusted to Central Time (CST/CDT) zone. From the given information, it appears that the Hacker News \"Ask\" section experiences peak activity during the evening (21:00) and morning (8:00 AM) hours.\n",
    "\n",
    "Although the dataset lacks information on users' ages, considering Hacker News' popularity within IT and startup communities, heightened activity is expected during post-work hours (9:00 PM to 10:00 PM), early work hours (8:00 AM), and around lunchtime or the end of the workday (2:00 PM to 3:00 PM)."
   ]
  },
  {
   "cell_type": "markdown",
   "id": "f087fb9a",
   "metadata": {},
   "source": [
    "### Additional findings: Determine if show or ask posts receive more points on average."
   ]
  },
  {
   "cell_type": "code",
   "execution_count": 21,
   "id": "6d7065e8",
   "metadata": {
    "scrolled": true
   },
   "outputs": [
    {
     "name": "stdout",
     "output_type": "stream",
     "text": [
      "Total number of points in ask posts: 26268\n",
      "The average number of points per post on ask posts: 15\n",
      "\n",
      "\n",
      "Total number of points in show posts: 32019\n",
      "The average number of points per post on show posts: 28\n"
     ]
    }
   ],
   "source": [
    "#Define a function to calculate number of points. \n",
    "def calc_posts_points(posts):\n",
    "    total_points = 0\n",
    "    \n",
    "    for row in posts:\n",
    "        points = row[3]\n",
    "        total_points += int(points)\n",
    "        \n",
    "    avg_points = total_points / len(posts)\n",
    "    \n",
    "    return total_points, avg_points\n",
    "\n",
    "ask_total_points, ask_avg_points = calc_posts_points(ask_posts)\n",
    "show_total_points, show_avg_points = calc_posts_points(show_posts)\n",
    "\n",
    "print(f'Total number of points in ask posts: {ask_total_points}')\n",
    "print(f'The average number of points per post on ask posts: {round(ask_avg_points)}')\n",
    "print('\\n')\n",
    "print(f'Total number of points in show posts: {show_total_points}')\n",
    "print(f'The average number of points per post on show posts: {round(show_avg_points)}')"
   ]
  },
  {
   "cell_type": "markdown",
   "id": "b9c7a067",
   "metadata": {},
   "source": [
    "Based on the data above, we can see, that `show` posts ,in general and on average, recieve more points from users than `ask` posts (28 points on average for show posts vs 15 for ask posts).\n"
   ]
  },
  {
   "cell_type": "markdown",
   "id": "bf155520",
   "metadata": {},
   "source": [
    "### Additional findings: Determine if posts created at a certain time are more likely to receive more points for the entire dataset."
   ]
  },
  {
   "cell_type": "markdown",
   "id": "dfbd733f",
   "metadata": {},
   "source": [
    "- First step is to create a list that contains time and number of points. "
   ]
  },
  {
   "cell_type": "code",
   "execution_count": 22,
   "id": "bc6efa0c",
   "metadata": {},
   "outputs": [
    {
     "name": "stdout",
     "output_type": "stream",
     "text": [
      "The sample output of time:points list:\n",
      "\n",
      "['8/4/2016 11:52', '386']\n",
      "['1/26/2016 19:30', '39']\n",
      "['6/23/2016 22:20', '2']\n",
      "['6/17/2016 0:01', '3']\n",
      "['9/30/2015 4:12', '8']\n"
     ]
    }
   ],
   "source": [
    "#Creating a lits with time/date and corresponding number of points.\n",
    "points_time_list = []\n",
    "for row in hn:\n",
    "    points = row[3]\n",
    "    date_create = row[6]    \n",
    "    points_time_list.append([date_create, points])\n",
    "\n",
    "print(\"The sample output of time:points list:\\n\")\n",
    "for i in range(5):\n",
    "    print(points_time_list[i])"
   ]
  },
  {
   "cell_type": "markdown",
   "id": "87643d8f",
   "metadata": {},
   "source": [
    "The next steps:\n",
    "- Extract the hour from the date.\n",
    "- Calculate the total number of points per hour.\n",
    "- Sort the results by number of points. "
   ]
  },
  {
   "cell_type": "code",
   "execution_count": 23,
   "id": "685c46b7",
   "metadata": {},
   "outputs": [
    {
     "name": "stdout",
     "output_type": "stream",
     "text": [
      "Number of points by hour:\n",
      "17h\t\t72239\n",
      "15h\t\t68671\n",
      "16h\t\t64811\n",
      "14h\t\t62660\n",
      "18h\t\t62415\n",
      "19h\t\t62026\n",
      "13h\t\t61898\n",
      "12h\t\t48612\n",
      "21h\t\t45736\n",
      "20h\t\t44188\n",
      "22h\t\t40446\n",
      "11h\t\t40300\n",
      "10h\t\t37529\n",
      "00h\t\t37342\n",
      "23h\t\t37175\n",
      "09h\t\t29684\n",
      "08h\t\t27864\n",
      "02h\t\t26919\n",
      "01h\t\t26703\n",
      "07h\t\t26316\n",
      "03h\t\t24220\n",
      "04h\t\t23324\n",
      "05h\t\t20043\n",
      "06h\t\t19830\n"
     ]
    }
   ],
   "source": [
    "points_by_hour = {}\n",
    "\n",
    "for row in points_time_list:\n",
    "    date_str = row[0]     # Stores date string\n",
    "    points = int(row[1])\n",
    "    date_dt = dt.datetime.strptime(date_str, '%m/%d/%Y %H:%M') # Convert date string into datetime object\n",
    "    hour = date_dt.strftime('%H') # Extracting the hour from the datetime object\n",
    "\n",
    "    if hour not in points_by_hour:\n",
    "        points_by_hour[hour] = points\n",
    "    else:\n",
    "        points_by_hour[hour] += points\n",
    "\n",
    "#Sorting points in decending order \n",
    "sorted_points = sorted(points_by_hour.items(), key=lambda x:x[1], reverse=True)\n",
    "#Converting sorted_points list into dictionary\n",
    "sorted_points = dict(sorted_points)\n",
    "\n",
    "print('Number of points by hour:')\n",
    "for hour, points in sorted_points.items():\n",
    "    print(f'{hour}h\\t\\t{points}')\n"
   ]
  },
  {
   "cell_type": "markdown",
   "id": "a6114953",
   "metadata": {},
   "source": [
    "#### Conclusion\n",
    "Based on the presented data, it is evident that posts created in the early evening or late afternoon tend to accumulate significantly more points than those created in the early morning.\n",
    "The chart below is provided for visualizing results. \n"
   ]
  },
  {
   "cell_type": "code",
   "execution_count": 24,
   "id": "1fd445bb",
   "metadata": {},
   "outputs": [
    {
     "data": {
      "image/png": "[encoded data removed]",
      "text/plain": [
       "<Figure size 640x480 with 1 Axes>"
      ]
     },
     "metadata": {},
     "output_type": "display_data"
    }
   ],
   "source": [
    "hours = list(sorted_points.keys())\n",
    "sum_points = list(sorted_points.values())\n",
    "\n",
    "fig = plt.Figure(figsize=(10,6))\n",
    "\n",
    "#creating the bar plot\n",
    "plt.bar(hours, sum_points, color='skyblue', width=0.5)\n",
    "\n",
    "plt.title('Number of Points by Hour')\n",
    "plt.xlabel('Hour')\n",
    "plt.ylabel('Number of Points')\n",
    "plt.xticks(rotation=45)\n",
    "plt.grid(True)\n",
    "plt.tight_layout()\n",
    "plt.show()"
   ]
  }
 ],
 "metadata": {
  "kernelspec": {
   "display_name": "Python 3 (ipykernel)",
   "language": "python",
   "name": "python3"
  },
  "language_info": {
   "codemirror_mode": {
    "name": "ipython",
    "version": 3
   },
   "file_extension": ".py",
   "mimetype": "text/x-python",
   "name": "python",
   "nbconvert_exporter": "python",
   "pygments_lexer": "ipython3",
   "version": "3.11.3"
  }
 },
 "nbformat": 4,
 "nbformat_minor": 5
}
